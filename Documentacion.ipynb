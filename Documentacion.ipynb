{
 "cells": [
  {
   "cell_type": "markdown",
   "metadata": {},
   "source": [
    "# DOCUMENTACIÓN \n",
    "\n",
    "<figure style=\"text-align: center;\">\n",
    "  <img src=\"foto.jpg\" alt=\"\" width=\"696\" height=\"647\" />\n",
    "  <figcaption><strong></strong></figcaption>\n",
    "</figure>"
   ]
  },
  {
   "cell_type": "markdown",
   "metadata": {},
   "source": [
    "## INDICE\n",
    "\n",
    "1. [Descripción](#descripción)\n",
    "2. [Herramientas](#herramientas)\n",
    "   - [Variables](#variables)\n",
    "   - [Listas](#listas)\n",
    "   - [Bucle For](#bucle-for)\n",
    "   - [Condicional If](#condicional-if)\n",
    "     - [Break](#break)\n",
    "     - [Continue](#continue)"
   ]
  },
  {
   "cell_type": "markdown",
   "metadata": {},
   "source": [
    "## DESCRIPCIÓN\n",
    "Este código implementa un bucle `for` que itera sobre los números del 1 al 20. Durante esta iteración, se aplican dos condiciones específicas:\n",
    "1. **Saltear el número 10** utilizando la sentencia `continue`.\n",
    "2. **Detener el bucle cuando se encuentra el número 15** utilizando la sentencia `break`.\n",
    "\n",
    "El objetivo es demostrar cómo funcionan las estructuras de control `continue` y `break` dentro de un bucle en Python. Esto es útil en situaciones donde se desea manipular el flujo de ejecución en base a condiciones específicas.\n"
   ]
  },
  {
   "cell_type": "markdown",
   "metadata": {},
   "source": [
    "## HERRAMIENTAS \n",
    "Para el desarrollo de este código, se utilizaron las siguientes herramientas y estructuras de control de Python:\n"
   ]
  },
  {
   "cell_type": "markdown",
   "metadata": {},
   "source": [
    "### VARIABLES\n",
    "Se utilizó una variable `listador`, la cual almacena un rango de números utilizando la función `range(1, 21)`. Esta variable genera una secuencia de números enteros del 1 al 20 que será recorrida dentro del bucle.\n"
   ]
  },
  {
   "cell_type": "markdown",
   "metadata": {},
   "source": [
    "### LISTAS\n",
    "Aunque no se emplea directamente una lista, el objeto `range` es similar a una lista de números enteros en Python, permitiendo iterar sobre un conjunto predefinido de valores. Esto significa que `range(1, 21)` genera una secuencia de números desde el 1 hasta el 20, que puede ser recorrida por el bucle `for`.\n",
    "\n",
    "De lo contrario, deberíamos utilizar una lista explícita, que se declararía de la siguiente manera:\n",
    "\n",
    "```python\n",
    "listador = [1, 2, 3, 4, 5, 6, 7, 8, 9, 10, 11, 12, 13, 14, 15, 16, 17, 18, 19, 20]\n",
    "```\n"
   ]
  },
  {
   "cell_type": "markdown",
   "metadata": {},
   "source": [
    "### BUCLE FOR\n",
    "El bucle `for` es la estructura principal que permite iterar sobre el rango de números del 1 al 20:\n",
    "\n",
    "```python\n",
    "for num in listador:\n",
    "```\n",
    "En cada iteración, el valor de `num` toma un número del rango, y se ejecuta el bloque de código correspondiente a cada iteración."
   ]
  },
  {
   "cell_type": "markdown",
   "metadata": {},
   "source": [
    "### CONDICIONAL IF\n",
    "El condicional `if` es utilizado para aplicar las reglas específicas dentro del bucle, evaluando diferentes condiciones sobre el valor de `num`utilizando: \n"
   ]
  },
  {
   "cell_type": "markdown",
   "metadata": {},
   "source": [
    "#### BREAK\n",
    "La sentencia `break` se utiliza para interrumpir completamente la ejecución del bucle en el momento en que la condición `num == 16` se cumple. Esto garantiza que el bucle no continúe iterando una vez que se llega al número 15:\n",
    "\n",
    "```python\n",
    "if num == 16:\n",
    "    break\n",
    "```"
   ]
  },
  {
   "cell_type": "markdown",
   "metadata": {},
   "source": [
    "#### CONTINUE\n",
    "La sentencia `continue` permite saltar a la siguiente iteración del bucle sin ejecutar el resto del código en el bloque actual. En este caso, se salta la impresión del número cuando el valor de `num` es 10:\n",
    "\n",
    "```python\n",
    "if num > 9 and num < 11:\n",
    "    continue\n",
    "```"
   ]
  }
 ],
 "metadata": {
  "language_info": {
   "name": "python"
  }
 },
 "nbformat": 4,
 "nbformat_minor": 2
}
